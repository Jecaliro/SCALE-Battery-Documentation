{
 "cells": [
  {
   "cell_type": "markdown",
   "metadata": {},
   "source": [
    "# General concept"
   ]
  },
  {
   "cell_type": "markdown",
   "metadata": {},
   "source": [
    "## Multi-Instance... What is it?\n",
    "\n",
    "MORPHEE multi-instance makes it possible to run a dedicated number of instances, independent the one from the others, in parallel on one computer. Then, each MORPHEE becomes a complete automation system, with its own acquisition, its own test procedure, its own dashboard, and its own alarms.\n",
    "\n",
    "<p align=\"center\"> <img src=\"./images/Multi-Instance-Global.png\" style=\"width: 15%;\" />\n",
    "\n",
    "In order to ensure cohabitation, some functions allow to exchange data between the different instances, facilitating measurement, events and equipment sharing.\n",
    "\n",
    "To consolidate multi-instance, a new concept of real time load balancing has been developed, allowing to take advantage of existing computer multi-core architecture.\n"
   ]
  },
  {
   "cell_type": "markdown",
   "metadata": {},
   "source": [
    "## Multi-Instance... Key points\n",
    "\n",
    "* One MORPHEE master with **X** MORPHEE instances at the same time\n",
    "   * Independent testing procedure\n",
    "   * Independent alarms\n",
    "   * Independent logging\n",
    "   * Independent screens\n",
    "* Possibility to use different shared hardware by instance. For example, use of one CAN channels in one instance and another one in another instance. \n",
    "* Possibility to share channels values between instances through shared memory.\n",
    "* Possibility to share events between instances for global synchronization, for example stop all instances, or pause all instances. "
   ]
  },
  {
   "cell_type": "markdown",
   "metadata": {},
   "source": [
    "## Multi-Instance... References\n",
    "\n",
    "| Ref                 | Description                                                        |\n",
    "|---------------------|--------------------------------------------------------------------|\n",
    "| **SA-M64-MULTI-04** |  Possibility to start **1** Master Instance + **4** test instances |\n",
    "| **SA-M64-MULTI-08** |  Possibility to start **1** Master Instance + **8** test instances |\n",
    "| **SA-M64-MULTI-16** | Possibility to start **1** Master Instance + **16** test instances |\n",
    "| **SA-M64-MULTI-24** | Possibility to start **1** Master Instance + **24** test instances |\n",
    "| **SA-M64-MULTI-32** | Possibility to start **1** Master Instance + **32** test instances |"
   ]
  },
  {
   "cell_type": "markdown",
   "metadata": {},
   "source": [
    "## Multi-Instance... Limitation\n",
    "\n",
    "| Ref                        | Master | Instances |\n",
    "|----------------------------|--------|-----------|\n",
    "| **Up to 1 + 8 instances**  |  1 kHz | 1 kHz     |\n",
    "| **Up to 1 + 16 instances** | 500 Hz | 500 Hz    |\n",
    "| **Up to 1 + 32 instances** | 100 Hz | 100 Hz    |\n",
    "\n",
    "> [!NOTE]\n",
    "> This limitations has been achieved with FEV 8 cores computer.\n"
   ]
  }
 ],
 "metadata": {
  "interpreter": {
   "hash": "2be5faf79681da6f2a61fdfdd5405d65d042280f7fba6178067603e3a2925119"
  },
  "kernelspec": {
   "display_name": "Python 3.10.0 64-bit",
   "language": "python",
   "name": "python3"
  },
  "language_info": {
   "codemirror_mode": {
    "name": "ipython",
    "version": 3
   },
   "file_extension": ".py",
   "mimetype": "text/x-python",
   "name": "python",
   "nbconvert_exporter": "python",
   "pygments_lexer": "ipython3",
   "version": "3.10.0"
  },
  "orig_nbformat": 4
 },
 "nbformat": 4,
 "nbformat_minor": 2
}
