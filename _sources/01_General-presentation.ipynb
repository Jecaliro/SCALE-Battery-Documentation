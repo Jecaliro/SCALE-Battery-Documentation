{
 "cells": [
  {
   "cell_type": "markdown",
   "metadata": {},
   "source": [
    "# General presentation\n",
    "\n",
    "## Introduction\n",
    "\n",
    "**SCALE Battery** has been developed to address all type of battery;\n",
    "* Cell\n",
    "* Module\n",
    "* Pack\n",
    "\n",
    "To meet the market demand, we are using the [MORPHEE® multi-instance](Multi-Instance.ipynb) concept.\n",
    "This allows to start on the the same computer;\n",
    "* Up to 32 cell tests in parallel\n",
    "* Up to 16 Module tests in parallel\n",
    "* Up to 8 Packs tests in parallel "
   ]
  },
  {
   "cell_type": "markdown",
   "metadata": {},
   "source": [
    "## Battery Testing principle\n",
    "\n",
    "### Equipements and measure\n",
    "\n",
    "To test a battery we need to have:\n",
    "* An Energy System >> Allow to charge and discharge the battery. Generally it also manage the re-injection on the network.\n",
    "* A climatic chamber - *optional* >> Allow to simulate environmental conditions\n",
    "* A coolant conditionning system - *optional* >> use to cooldown the battery in same condition as in the vehicle.\n",
    "* A BMS (**B**attery **M**angement **S**ystem) - *optional* >> Battery control unit handling the different cells/modules/pack and different modes (charge/sleep/Drive)\n",
    "* Additionnal acquisition - *optional* >> Allow to add voltage, current and temperature measurement.\n",
    "\n",
    "![](./images/Battery_test_concept.png)\n",
    "\n",
    "```{note}\n",
    "Except Energy System, all others equipement can be 'Optional', depending on each application.\n",
    "```"
   ]
  },
  {
   "cell_type": "markdown",
   "metadata": {},
   "source": [
    "### Energy system channel concept\n",
    "\n",
    "Energy System have one or several channel allowing to address one or several battery:\n",
    "* If there is a need for more current, channels can we wired in parallel\n",
    "* If there is a need for more voltage, channels can be wired in serial \n",
    "\n",
    "| Parallel connexion                 | Serial connexion                |\n",
    "|:---------------------:|:------------------------:|\n",
    "| ![](./images/Battery_test_parallel.png) |  ![](./images/Battery_test_serial.png) |\n",
    "\n",
    "Regarding equipement capability, it is also possible to combine Energy system cascading and channel parallelisation or serialisation.\n",
    "\n",
    "| Equipement and channel cascading  |\n",
    "|:---------------------:|\n",
    "| ![](./images/Battery_test_mixed.png) |"
   ]
  },
  {
   "cell_type": "markdown",
   "metadata": {},
   "source": [
    "### Modularity\n",
    "\n",
    "Generally, in one climatic chamber there will be several battery in test. Climatic condition are identical but tests can be different!\n",
    " \n",
    "| 1 battery                 | 4 batteries                | 12 batteries                |\n",
    "|:---------------------:|:------------------------:|:------------------------:|\n",
    "| ![](./images/Battery-modulo-1.png) |  ![](./images/Battery-modulo-4.png) |![](./images/Battery-Modulo-12.png) |\n",
    "\n",
    "```{important} The quantity of test is directly linked to the quantity of Energy System channels.\n",
    "For example, if globaly a system has 8 channels, we can:\n",
    "* Start 8 independant test using 1 channel each\n",
    "* Start 4 independant test using 2 channel each (in // or serial)\n",
    "* Start 2 independant test using 4 channel each (in // or serial)\n",
    "\n",
    "Possibility is given, in one side from the hardware, and in the other side from the software configuration.\n",
    "```"
   ]
  },
  {
   "cell_type": "markdown",
   "metadata": {},
   "source": [
    "## Software architecture\n",
    "\n",
    "Software architecture is based in one hand, on a master application managing most of the equipments (Energy, cooling, acquisition, climatic...), and on another hand several procedure executing the test(call instances). Communication between main application and procedure is developped the in [MORPHEE® multi-instance](Multi-Instance.ipynb) chapter.\n",
    "\n",
    "![](./images/Battery_Concept.png)\n",
    "\n",
    "Objective is to keep all instances as identical as possible. Only some interfaces can change;\n",
    "* BMS\n",
    "* Specif devices.\n",
    "\n",
    "A specific configuration (hardware connexion) can also be done for every instance.. "
   ]
  },
  {
   "cell_type": "markdown",
   "metadata": {},
   "source": [
    "## Instances capability\n",
    "\n",
    "We limit the quantities of instances to 1 master + 32 instances.\n",
    "But more generally, the quantities will be limited by the configuration you will select:\n",
    "\n",
    "| Ref                 | Description                                                        |\n",
    "|---------------------|--------------------------------------------------------------------|\n",
    "| **SA-M64-MULTI-04** |  Possibility to start **1** Master Instance + **4** test instances |\n",
    "| **SA-M64-MULTI-08** |  Possibility to start **1** Master Instance + **8** test instances |\n",
    "| **SA-M64-MULTI-16** | Possibility to start **1** Master Instance + **16** test instances |\n",
    "| **SA-M64-MULTI-24** | Possibility to start **1** Master Instance + **24** test instances |\n",
    "| **SA-M64-MULTI-32** | Possibility to start **1** Master Instance + **32** test instances |"
   ]
  },
  {
   "cell_type": "markdown",
   "metadata": {},
   "source": [
    "## Instances limitation\n",
    "\n",
    "Actual limitations are as follow:\n",
    "\n",
    "| Ref                        | Master | Instances |\n",
    "|----------------------------|--------|-----------|\n",
    "| **Up to 1 + 8 instances**  |  1 kHz | 1 kHz     |\n",
    "| **Up to 1 + 16 instances** | 500 Hz | 500 Hz    |\n",
    "| **Up to 1 + 32 instances** | 100 Hz | 100 Hz    |\n",
    "\n",
    "```{note}\n",
    "This limitations has been achieved with FEV 8 cores computer.\n",
    "```"
   ]
  },
  {
   "cell_type": "markdown",
   "metadata": {},
   "source": []
  }
 ],
 "metadata": {
  "interpreter": {
   "hash": "2be5faf79681da6f2a61fdfdd5405d65d042280f7fba6178067603e3a2925119"
  },
  "kernelspec": {
   "display_name": "Python 3.10.0 64-bit",
   "language": "python",
   "name": "python3"
  },
  "language_info": {
   "codemirror_mode": {
    "name": "ipython",
    "version": 3
   },
   "file_extension": ".py",
   "mimetype": "text/x-python",
   "name": "python",
   "nbconvert_exporter": "python",
   "pygments_lexer": "ipython3",
   "version": "3.10.0"
  },
  "orig_nbformat": 4
 },
 "nbformat": 4,
 "nbformat_minor": 2
}
