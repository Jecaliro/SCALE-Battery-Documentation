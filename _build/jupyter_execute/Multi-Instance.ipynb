{
 "cells": [
  {
   "cell_type": "markdown",
   "metadata": {},
   "source": [
    "# MORPHEE® Multi-instance\n",
    "\n",
    "Born from our internal need to have independent application running on the same hardware architecture, **MORPHEE®** multi-instance has been developed to ensure multiple tests execution independently in terms of procedure and securities."
   ]
  },
  {
   "cell_type": "markdown",
   "metadata": {},
   "source": [
    "## General concept\n",
    "\n",
    "In order to meet the growing need for multi-UUT testing, especially in the field of battery, and after many feasibilities, FEV has developed a new MORPHEE multi-instance concept. \n",
    "\n",
    "Based on this, it is now possible to run several MORPHEE on the same computer.  The first instance is seen as the ‘master instance’ (or main instance). It can be used to orchestrate all the other instances, to centralize hardware, share channels and distribute events.\n",
    "\n",
    "All others instances are completely independent and can perform test in real time using own channels, screens, alarms, methods, etc..\n"
   ]
  },
  {
   "cell_type": "markdown",
   "metadata": {},
   "source": [
    "<p align=\"center\"> <img src=\"./images/Multi-Instance-concept.png\" style=\"width: 75%;\" />"
   ]
  },
  {
   "cell_type": "markdown",
   "metadata": {},
   "source": [
    "There are still many things to investigate with this new multi-instance concept, and actual limitations are as follow:\n",
    "\n",
    "| Ref                        | Master | Instances |\n",
    "|----------------------------|--------|-----------|\n",
    "| **Up to 1 + 8 instances**  |  1 kHz | 1 kHz     |\n",
    "| **Up to 1 + 16 instances** | 500 Hz | 500 Hz    |\n",
    "| **Up to 1 + 32 instances** | 100 Hz | 100 Hz    |\n",
    "\n",
    "> [!NOTE]\n",
    "> This limitations has been achieved with FEV 8 cores computer."
   ]
  },
  {
   "cell_type": "markdown",
   "metadata": {},
   "source": [
    "## Multi-Instance activation and configuration\n",
    "\n",
    "### Activation\n",
    "\n",
    "Activation of the multi-instance can be done quickly, as it is sufficient to specify in **MENV** (**MORPHEE** Environment software) that an additional instance is required.\n",
    "\n",
    "You can add as many instances as needed, and also delete them if they are not needed anymore; \n",
    "\n",
    "<p align=\"center\"> <img src=\"./images/Multi-Instance-activation.png\" style=\"width: 50%;\" />"
   ]
  },
  {
   "cell_type": "markdown",
   "metadata": {},
   "source": [
    "If no folders exist for multi-instance, **MENV** will create them and populate then with files from Master instance.\n",
    "\n",
    "<p align=\"center\"> <img src=\"./images/Multi-Instance-folder.png\" style=\"width: 15%;\" />\n",
    "\n",
    "If folders are already existing, no actions will be performed."
   ]
  },
  {
   "cell_type": "markdown",
   "metadata": {},
   "source": [
    "### Configuration\n",
    "\n",
    "However, activation is not enough, as the whole system has to be configured in order to be able to run a test.\n",
    "Configuration of each instance is done directly from **MENV** layer;\n",
    "\n",
    "<p align=\"center\"> <img src=\"./images/Multi-Instance-config.png\" style=\"width: 50%;\" />\n",
    "\n",
    "Not all parameters have to be modified as we fixed some rules to simplify global configuration. Only:\n",
    "* Initialization file (`Morphee.ini`)\n",
    "* Physical Configuration file (`Morphee.cfp`)\n",
    "* Editor configuration (`UEditor.config`)\n",
    "* Test Path and Result directory\n",
    "\n",
    "All other parameters are common to all instances, mainly:\n",
    "* Components\n",
    "* Templates\n",
    "* Themes\n",
    "* Skins\n",
    "* Reports\n",
    "* Automatic Session\n",
    "* Binaries•\t…\n"
   ]
  },
  {
   "cell_type": "markdown",
   "metadata": {},
   "source": [
    "## Working with Instances\n",
    "\n",
    "### Editing / Starting a specific instance\n",
    "\n",
    "By using MToolBar, you will every time prompted to know which instance you want to use;\n",
    "\n",
    "<p align=\"center\"> <img src=\"./images/Multi-Instance-mtoolbar.png\" style=\"width: 50%;\" />\n",
    "\n",
    "For;\n",
    "* Starting **MORPHEE Editor**\n",
    "* Starting **MORPHEE Executive**\n",
    "\n",
    "Information of instance number is displayed on main Form and also in the main toolbar: <img src=\"./images/Multi-Instance-numbering.png\" style=\"width: 10%;\" />\n"
   ]
  },
  {
   "cell_type": "markdown",
   "metadata": {},
   "source": [
    "It can be very complex to work with many instances at the same time. Some basic rules can help to avoid problem link to quantity of place where modification can be done.\n",
    "\n",
    "For example:\n",
    "* Use Meditor instance, only for configuration:\n",
    "   * Adding and configuring features\n",
    "   * Hardware links\n",
    "   * Test cell configuration\n",
    "* Use Meditor master instance for all others things:\n",
    "   * Master instance configuration\n",
    "   * Component writing\n",
    "   * Test Writing\n",
    "   * Channel calibration\n",
    "   * Etc…"
   ]
  },
  {
   "cell_type": "markdown",
   "metadata": {},
   "source": [
    "| Master Instance | Others instances |\n",
    "|:----------------------------:|:--------:|\n",
    "| <img src=\"./images/Multi-Instance-master.png\" style=\"width: 90%;\" /> | <img src=\"./images/Multi-Instance-instance.png\" style=\"width: 90%;\" />|\n"
   ]
  },
  {
   "cell_type": "markdown",
   "metadata": {},
   "source": [
    "### Exchanging data between instances\n",
    "\n",
    "Each instance can be completely autonomous. Nevertheless, in most cases, it is necessary to share measurement channels, or simply status paths, between the instances. \n",
    "To make instance independent and use same component, following best practices could be used:\n",
    "\n",
    "_***Sharing a channel from master instance to all instances***_\n",
    "\n",
    "The name of the channel in master instance has to be the same in others instance. The channel type has to be `[SHARED_IN]`\n",
    "\n",
    "<p align=\"center\"> <img src=\"./images/Multi-Instance-sharedall.png\" style=\"width: 90%;\" />\n",
    "\n",
    "_***Sharing a channel from master to a specific instance***_\n",
    "\n",
    "To keep instance generic and use the same channel name, the physical channel has to redirect the standard name from the instance.\n",
    "<p align=\"center\"> <img src=\"./images/Multi-Instance-sharedin.png\" style=\"width: 90%;\" />\n",
    "\n",
    "_***Getting channel from instances***_\n",
    "\n",
    "To send value of channel to master, it is also possible to use the same principle, but channel type must be `[SHARED-OUT]`.\n",
    "\n",
    "<p align=\"center\"> <img src=\"./images/Multi-Instance-sharedout.png\" style=\"width: 90%;\" />"
   ]
  },
  {
   "cell_type": "markdown",
   "metadata": {},
   "source": []
  }
 ],
 "metadata": {
  "language_info": {
   "codemirror_mode": {
    "name": "ipython",
    "version": 3
   },
   "file_extension": ".py",
   "mimetype": "text/x-python",
   "name": "python",
   "nbconvert_exporter": "python",
   "pygments_lexer": "ipython3",
   "version": "3.8.12"
  }
 },
 "nbformat": 4,
 "nbformat_minor": 2
}