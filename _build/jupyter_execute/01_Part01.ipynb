{
 "cells": [
  {
   "cell_type": "markdown",
   "metadata": {},
   "source": [
    "# General concept"
   ]
  },
  {
   "cell_type": "markdown",
   "metadata": {},
   "source": [
    "## Multi-Instance... What is it?\n",
    "\n",
    "MORPHEE multi-instance makes it possible to run a dedicated number of instances, independent the one from the others, in parallel on one computer. Then, each MORPHEE becomes a complete automation system, with its own acquisition, its own test procedure, its own dashboard, and its own alarms.\n",
    "\n",
    "<p align=\"center\"> <img src=\"./images/Multi-Instance-Global.png\" style=\"width: 15%;\" />\n",
    "\n",
    "In order to ensure cohabitation, some functions allow to exchange data between the different instances, facilitating measurement, events and equipment sharing.\n",
    "\n",
    "To consolidate multi-instance, a new concept of real time load balancing has been developed, allowing to take advantage of existing computer multi-core architecture.\n"
   ]
  },
  {
   "cell_type": "markdown",
   "metadata": {},
   "source": [
    "## Multi-Instance... Key points\n",
    "\n",
    "* One MORPHEE master with **X** MORPHEE instances at the same time\n",
    "   * Independent testing procedure\n",
    "   * Independent alarms\n",
    "   * Independent logging\n",
    "   * Independent screens\n",
    "* Possibility to use different shared hardware by instance. For example, use of one CAN channels in one instance and another one in another instance. \n",
    "* Possibility to share channels values between instances through shared memory.\n",
    "* Possibility to share events between instances for global synchronization, for example stop all instances, or pause all instances. "
   ]
  },
  {
   "cell_type": "markdown",
   "metadata": {},
   "source": [
    "## Multi-Instance... References\n",
    "\n",
    "| Ref                 | Description                                                        |\n",
    "|---------------------|--------------------------------------------------------------------|\n",
    "| **SA-M64-MULTI-04** |  Possibility to start **1** Master Instance + **4** test instances |\n",
    "| **SA-M64-MULTI-08** |  Possibility to start **1** Master Instance + **8** test instances |\n",
    "| **SA-M64-MULTI-16** | Possibility to start **1** Master Instance + **16** test instances |\n",
    "| **SA-M64-MULTI-24** | Possibility to start **1** Master Instance + **24** test instances |\n",
    "| **SA-M64-MULTI-32** | Possibility to start **1** Master Instance + **32** test instances |"
   ]
  },
  {
   "cell_type": "markdown",
   "metadata": {},
   "source": [
    "## Multi-Instance... Limitation\n",
    "\n",
    "| Ref                        | Master | Instances |\n",
    "|----------------------------|--------|-----------|\n",
    "| **Up to 1 + 8 instances**  |  1 kHz | 1 kHz     |\n",
    "| **Up to 1 + 16 instances** | 500 Hz | 500 Hz    |\n",
    "| **Up to 1 + 32 instances** | 100 Hz | 100 Hz    |\n",
    "\n",
    "> [!NOTE]\n",
    "> This limitations has been achieved with FEV 8 cores computer.\n"
   ]
  },
  {
   "cell_type": "markdown",
   "metadata": {},
   "source": [
    "## Software architecture\n",
    "\n",
    "Software architecture is based in one hand, on a master application managing most Devices, and on another hand, on several procedure executing the test (call instances);\n",
    "\n",
    "<p align=\"center\"> <img src=\"./images/Battery_Concept.png\" style=\"width: 100%;\" />\n",
    "\n",
    "Objective is to keep all instances as identical as possible. Only some interfaces can change;\n",
    "* BMS\n",
    "* Specif devices.\n",
    "\n",
    "A specific configuration (hardware connexion) can also be done for every instance."
   ]
  },
  {
   "cell_type": "markdown",
   "metadata": {},
   "source": [
    "## Configuration\n",
    "\n",
    "### Component role\n",
    "\n",
    "Quick overview of component role:\n",
    "\n",
    "| Component                      |       | Master  | Inst.  | Description                                                                                                                                                                                                                        |\n",
    "|--------------------------------|-------|:---------:|:--------:|------------------------------------------------------------------------------------------------------------------------------------------------------------------------------------------------------------------------------------|\n",
    "| MANAGEMENT                     | SCALE |    X    |    X   | Global management of all SCALE and non SCALE component in the configuration. Must be in all configuration                                                                                                                          |\n",
    "| CONTROL_MANAGEMENT.BATTERY     | SCALE |         |    X   | Management of the different control mode for battery;                                                                                                                                                                              |\n",
    "| MEASUREMENT_MANAGEMENT.BATTERY | SCALE |         |    X   | Management of acquisition for battery;                                                                                                                                                                                             |\n",
    "| MULTIINSTANCE_MANAGEMENT       | SCALE |    X    |        | Handling of the configuration (see below) and instances                                                                                                                                                                            |\n",
    "| ACQUISITION                    |       |    X    |   (X)  | Component for \"normed name\" customer channels. This is the main place to define: Link to hardware channel Securities Calculation Acquisition plan                                                                                  |\n",
    "| HARDWARE                       |       |    X    |        | Component to place hardware channels of the configuration. Act as a simple passive component to concentrate acquisition channels.                                                                                                  |\n",
    "| Customer specific component    |       |    X    |   (X)  | All needed component for customer configuration, such as; PLC Barcode Various interface ...                                                                                                                                        |\n",
    "| BMS                            | SCALE |         |    X   | Communication with the battery BMS, adressed either in CAN or FDX protocol. Frame given by SCALE architecture, but possibility to ADD new methods and channels if there is a need to add customer specific command (father method) |\n",
    "| DUT                            | SCALE |         |    X   | DUT description. Frame given by SCALE architecture, but possibility to ADD new parameters if needed.                                                                                                                               |\n",
    "| ENERGY_SYSTEM_SHARING          | SCALE | .MASTER | .SLAVE | Management of different ENERGY_SYSTEM; In link with the instance In regards to configuration                                                                                                                                       |\n",
    "| ENERGY_SYSTEM_X                | SCALE |    X    |        | SCALE energy system devices                                                                                                                                                                                                        |\n",
    "| CLIMATIC_CHAMBER_SHARING       | SCALE | .MASTER | .SLAVE | Management of different CLIMATIC_CHAMBER; In link with the instance In regards to configuration                                                                                                                                    |\n",
    "| CLIMATIC_CHAMBER_X             | SCALE |    X    |        | SCALE climatic chamber devices                                                                                                                                                                                                     |\n",
    "| COOLAND_COND_SHARING           | SCALE | .MASTER | .SLAVE | Management of different COOLAND_COND; In link with the instance In regards to configuration                                                                                                                                        |\n",
    "| COOLAND_COND_X                 | SCALE |    X    |        | SCALE coolant conditionning devices                                                                                                                                                                                                |\n",
    "| SCADA_CLIENT_MASTER            | SCALE |    X    |        | Can be used only with SCADA                                                                                                                                                                                                        |\n",
    "| SCADA_CLIENT_INSTANCE          | SCALE |         |    X   | Can be used only with SCADA                                                                                                                                                                                                        |\n"
   ]
  },
  {
   "cell_type": "markdown",
   "metadata": {},
   "source": [
    "### Hardware Configuration\n",
    "\n",
    "Hardware configuration is not different when you have one instance that when you have several instances.\n",
    "\n",
    "Just note that some MORPHEE features are multi-instances compliant and some others not;\n",
    "\n",
    "| Feature                                   | Multi-Instance Compatibility | Remark                                                                                                                        |\n",
    "|-------------------------------------------|:------------------------------:|-------------------------------------------------------------------------------------------------------------------------------|\n",
    "| Advanced >> ECU Connexion                 |             **X**            |                                                                                                                               |\n",
    "| Communication >> CAN                      |               X              | Possibility to use one CAN channel from one board in one instance and another CAN channel from same board in another instance |\n",
    "| Communication >> Custom (CSM)             |               X              |                                                                                                                               |\n",
    "| Communication >> EtherCat                 |                              | To share Channels between instance, please have a look to Software Configuration                                              |\n",
    "| Communication >> Ethernet (SLINK)         |               X              |                                                                                                                               |\n",
    "| Communication >> Fast Data Exchange (FDX) |               X              |                                                                                                                               |\n",
    "| Communication >> OBD                      |               ?              |                                                                                                                               |\n",
    "| Communication >> PFB                      |               ?              |                                                                                                                               |"
   ]
  },
  {
   "cell_type": "markdown",
   "metadata": {},
   "source": [
    "### Software configuration\n",
    "\n",
    "#### Master and Instance configuration\n",
    "\n",
    "| Master configuration (In Bench cfg)    | Instance 1 configuration (In Test cfg) | Instance n configuration (In Test cfg) |\n",
    "|----------------------------------------|----------------------------------------|----------------------------------------|\n",
    "| MANAGEMENT                             |               MANAGEMENT               |               MANAGEMENT               |\n",
    "| MULTIINSTANCE_MANAGEMENT               |           CONTROL_MANAGEMENT           |           CONTROL_MANAGEMENT           |\n",
    "| HARDWARE (*Specific*)                  |     MEASUREMENT_MANAGEMENT.BATTERY     |     MEASUREMENT_MANAGEMENT.BATTERY     |\n",
    "| ACQUISITION (Global)                   |       ACQUISITION (for instance)       |       ACQUISITION (for instance)       |\n",
    "|                                        |                   DUT                  |                   DUT                  |\n",
    "|                                        |                   BMS                  |                   BMS                  |\n",
    "| ENERGY_SYSTEM_SHARING.***MASTER***     |    ENERGY_SYSTEM_SHARING.***SLAVE***   |    ENERGY_SYSTEM_SHARING.***SLAVE***   |\n",
    "| ENERGY_SYSTEM_1.*{real device}*        |                                        |                                        |\n",
    "| ...                                    |                                        |                                        |\n",
    "| ENERGY_SYSTEM_**X**.*{real device}*    |                                        |                                        |\n",
    "| CLIMATIC_CHAMBER_SHARING.***MASTER***  | CLIMATIC_CHAMBER_SHARING.***SLAVE***   | CLIMATIC_CHAMBER_SHARING.***MASTER***  |\n",
    "| CLIMATIC_CHAMBER_1.*{real device}*     |                                        |                                        |\n",
    "| ...                                    |                                        |                                        |\n",
    "| CLIMATIC_CHAMBER_**X**.*{real device}* |                                        |                                        |\n",
    "| COOLANT_COND_SHARING.***MASTER***      | COOLANT_COND_SHARING.***SLAVE***       | COOLANT_COND_SHARING.***SLAVE***       |\n",
    "| COOLANT_COND_1.*{real device}*         |                                        |                                        |\n",
    "| ...                                    |                                        |                                        |\n",
    "| COOLANT_COND_**X**.*{real device}*     |                                        |                                        |"
   ]
  },
  {
   "cell_type": "markdown",
   "metadata": {},
   "source": []
  }
 ],
 "metadata": {
  "interpreter": {
   "hash": "2be5faf79681da6f2a61fdfdd5405d65d042280f7fba6178067603e3a2925119"
  },
  "kernelspec": {
   "display_name": "Python 3.10.0 64-bit",
   "language": "python",
   "name": "python3"
  },
  "language_info": {
   "codemirror_mode": {
    "name": "ipython",
    "version": 3
   },
   "file_extension": ".py",
   "mimetype": "text/x-python",
   "name": "python",
   "nbconvert_exporter": "python",
   "pygments_lexer": "ipython3",
   "version": "3.8.12"
  }
 },
 "nbformat": 4,
 "nbformat_minor": 2
}