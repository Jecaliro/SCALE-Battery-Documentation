{
 "cells": [
  {
   "cell_type": "markdown",
   "metadata": {},
   "source": [
    "# Configuration of 'IniEditor'"
   ]
  },
  {
   "cell_type": "markdown",
   "metadata": {},
   "source": [
    "![Ini Editor](./images/MO_Batterie_Config.png)"
   ]
  },
  {
   "cell_type": "markdown",
   "metadata": {},
   "source": [
    "![Ini Editor](./images/MO_Batterie_selection.png)"
   ]
  },
  {
   "cell_type": "markdown",
   "metadata": {},
   "source": [
    "``` bash\n",
    "[DB]\n",
    "P_DUT.MANUFACTURER=TESLA\n",
    "P_DUT.SERIAL_NUMBER=84MP-12Q\n",
    "P_DUT.CAPACITY_NOM=22\n",
    "P_DUT.CURRENT_NOM=133\n",
    "P_DUT.CURRENT_MIN=0\n",
    "P_DUT.CURRENT_MAX=135\n",
    "P_DUT.CURRENT_CHARGE_MAX=120\n",
    "P_DUT.CURRENT_DISCHARGE_MAX=-122\n",
    "P_DUT.POWER_NOM=130\n",
    "P_DUT.POWER_MIN=0\n",
    "P_DUT.POWER_MAX=135\n",
    "P_DUT.VOLTAGE_NOM=180\n",
    "P_DUT.VOLTAGE_MAX=200\n",
    "P_DUT.VOLTAGE_MIN=80\n",
    "P_DUT.VOLTAGE_CHARGE_MAX=175\n",
    "P_DUT.VOLTAGE_DISCHARGE_MAX=100\n",
    "P_DUT.TYPE=1\n",
    "P_DUT.ARCHITECTURE=2\n",
    "P_DUT.TECHNOLOGY=0\n",
    "P_DUT.DESCRIPTION=Demonstration batterie 1\n",
    "P_DUT.OPERATING_TEMP_MIN=-10\n",
    "P_DUT.OPERATING_TEMP_MAX=55\n",
    "P_DUT.IDENTIFIER=EXEMPLE_BAT_T001\n",
    "``` "
   ]
  },
  {
   "cell_type": "markdown",
   "metadata": {},
   "source": [
    "```{code-block} python\n",
    "import nbformat as nbf\n",
    "from glob import glob\n",
    "\n",
    "# Collect a list of all notebooks in the content folder\n",
    "notebooks = glob(\"./content/**/*.ipynb\", recursive=True)\n",
    "\n",
    "# Text to look for in adding tags\n",
    "text_search_dict = {\n",
    "    \"# HIDDEN\": \"remove-cell\",  # Remove the whole cell\n",
    "    \"# NO CODE\": \"remove-input\",  # Remove only the input\n",
    "    \"# HIDE CODE\": \"hide-input\"  # Hide the input w/ a button to show\n",
    "}\n",
    "\n",
    "# Search through each notebook and look for the text, add a tag if necessary\n",
    "for ipath in notebooks:\n",
    "    ntbk = nbf.read(ipath, nbf.NO_CONVERT)\n",
    "\n",
    "    for cell in ntbk.cells:\n",
    "        cell_tags = cell.get('metadata', {}).get('tags', [])\n",
    "        for key, val in text_search_dict.items():\n",
    "            if key in cell['source']:\n",
    "                if val not in cell_tags:\n",
    "                    cell_tags.append(val)\n",
    "        if len(cell_tags) > 0:\n",
    "            cell['metadata']['tags'] = cell_tags\n",
    "\n",
    "    nbf.write(ntbk, ipath)\n",
    "```\n"
   ]
  },
  {
   "cell_type": "markdown",
   "metadata": {},
   "source": [
    "Configuration of 'IniEditor.config' file\n",
    "``` html\n",
    "\n",
    "```"
   ]
  },
  {
   "cell_type": "markdown",
   "metadata": {},
   "source": []
  }
 ],
 "metadata": {
  "language_info": {
   "name": "python"
  },
  "orig_nbformat": 4
 },
 "nbformat": 4,
 "nbformat_minor": 2
}
